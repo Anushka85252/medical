{
  "cells": [
    {
      "cell_type": "code",
      "source": [
        "pip install selenium"
      ],
      "metadata": {
        "colab": {
          "base_uri": "https://localhost:8080/"
        },
        "id": "XclTyq3OGUBJ",
        "outputId": "3f719ee3-1287-42ad-a495-62c42157f6f2"
      },
      "id": "XclTyq3OGUBJ",
      "execution_count": 2,
      "outputs": [
        {
          "output_type": "stream",
          "name": "stdout",
          "text": [
            "Collecting selenium\n",
            "  Downloading selenium-4.18.1-py3-none-any.whl (10.0 MB)\n",
            "\u001b[2K     \u001b[90m━━━━━━━━━━━━━━━━━━━━━━━━━━━━━━━━━━━━━━━━\u001b[0m \u001b[32m10.0/10.0 MB\u001b[0m \u001b[31m59.1 MB/s\u001b[0m eta \u001b[36m0:00:00\u001b[0m\n",
            "\u001b[?25hRequirement already satisfied: urllib3[socks]<3,>=1.26 in /usr/local/lib/python3.10/dist-packages (from selenium) (2.0.7)\n",
            "Collecting trio~=0.17 (from selenium)\n",
            "  Downloading trio-0.25.0-py3-none-any.whl (467 kB)\n",
            "\u001b[2K     \u001b[90m━━━━━━━━━━━━━━━━━━━━━━━━━━━━━━━━━━━━━━━━\u001b[0m \u001b[32m467.2/467.2 kB\u001b[0m \u001b[31m43.0 MB/s\u001b[0m eta \u001b[36m0:00:00\u001b[0m\n",
            "\u001b[?25hCollecting trio-websocket~=0.9 (from selenium)\n",
            "  Downloading trio_websocket-0.11.1-py3-none-any.whl (17 kB)\n",
            "Requirement already satisfied: certifi>=2021.10.8 in /usr/local/lib/python3.10/dist-packages (from selenium) (2024.2.2)\n",
            "Requirement already satisfied: typing_extensions>=4.9.0 in /usr/local/lib/python3.10/dist-packages (from selenium) (4.10.0)\n",
            "Requirement already satisfied: attrs>=23.2.0 in /usr/local/lib/python3.10/dist-packages (from trio~=0.17->selenium) (23.2.0)\n",
            "Requirement already satisfied: sortedcontainers in /usr/local/lib/python3.10/dist-packages (from trio~=0.17->selenium) (2.4.0)\n",
            "Requirement already satisfied: idna in /usr/local/lib/python3.10/dist-packages (from trio~=0.17->selenium) (3.6)\n",
            "Collecting outcome (from trio~=0.17->selenium)\n",
            "  Downloading outcome-1.3.0.post0-py2.py3-none-any.whl (10 kB)\n",
            "Requirement already satisfied: sniffio>=1.3.0 in /usr/local/lib/python3.10/dist-packages (from trio~=0.17->selenium) (1.3.1)\n",
            "Requirement already satisfied: exceptiongroup in /usr/local/lib/python3.10/dist-packages (from trio~=0.17->selenium) (1.2.0)\n",
            "Collecting wsproto>=0.14 (from trio-websocket~=0.9->selenium)\n",
            "  Downloading wsproto-1.2.0-py3-none-any.whl (24 kB)\n",
            "Requirement already satisfied: pysocks!=1.5.7,<2.0,>=1.5.6 in /usr/local/lib/python3.10/dist-packages (from urllib3[socks]<3,>=1.26->selenium) (1.7.1)\n",
            "Collecting h11<1,>=0.9.0 (from wsproto>=0.14->trio-websocket~=0.9->selenium)\n",
            "  Downloading h11-0.14.0-py3-none-any.whl (58 kB)\n",
            "\u001b[2K     \u001b[90m━━━━━━━━━━━━━━━━━━━━━━━━━━━━━━━━━━━━━━━━\u001b[0m \u001b[32m58.3/58.3 kB\u001b[0m \u001b[31m7.2 MB/s\u001b[0m eta \u001b[36m0:00:00\u001b[0m\n",
            "\u001b[?25hInstalling collected packages: outcome, h11, wsproto, trio, trio-websocket, selenium\n",
            "Successfully installed h11-0.14.0 outcome-1.3.0.post0 selenium-4.18.1 trio-0.25.0 trio-websocket-0.11.1 wsproto-1.2.0\n"
          ]
        }
      ]
    },
    {
      "cell_type": "code",
      "source": [
        "from selenium import webdriver\n",
        "from selenium.webdriver.chrome.service import Service\n",
        "from webdriver_manager.chrome import ChromeDriverManager\n",
        "from selenium.webdriver.support.select import Select\n",
        "from selenium.webdriver.common.by import By\n",
        "from selenium.webdriver.common.keys import Keys\n",
        "from selenium.webdriver.support import expected_conditions as EC\n",
        "from selenium.webdriver.support.wait import WebDriverWait\n",
        "\n",
        "import pandas as pd\n",
        "import re\n",
        "import numpy as np"
      ],
      "metadata": {
        "id": "hTeoY9w0H5xl"
      },
      "id": "hTeoY9w0H5xl",
      "execution_count": null,
      "outputs": []
    },
    {
      "cell_type": "code",
      "execution_count": null,
      "id": "f32a19b0",
      "metadata": {
        "scrolled": true,
        "id": "f32a19b0",
        "outputId": "0434cf0b-cacb-4b27-d322-c1ebf66cedd2"
      },
      "outputs": [
        {
          "name": "stdout",
          "output_type": "stream",
          "text": [
            "Requirement already satisfied: webdriver_manager in /home/yasmin/anaconda3/lib/python3.9/site-packages (3.8.6)\n",
            "Requirement already satisfied: python-dotenv in /home/yasmin/anaconda3/lib/python3.9/site-packages (from webdriver_manager) (1.0.0)\n",
            "Requirement already satisfied: requests in /home/yasmin/anaconda3/lib/python3.9/site-packages (from webdriver_manager) (2.28.2)\n",
            "Requirement already satisfied: packaging in /home/yasmin/anaconda3/lib/python3.9/site-packages (from webdriver_manager) (23.0)\n",
            "Requirement already satisfied: tqdm in /home/yasmin/anaconda3/lib/python3.9/site-packages (from webdriver_manager) (4.65.0)\n",
            "Requirement already satisfied: urllib3<1.27,>=1.21.1 in /home/yasmin/anaconda3/lib/python3.9/site-packages (from requests->webdriver_manager) (1.26.15)\n",
            "Requirement already satisfied: idna<4,>=2.5 in /home/yasmin/anaconda3/lib/python3.9/site-packages (from requests->webdriver_manager) (3.4)\n",
            "Requirement already satisfied: charset-normalizer<4,>=2 in /home/yasmin/anaconda3/lib/python3.9/site-packages (from requests->webdriver_manager) (2.1.1)\n",
            "Requirement already satisfied: certifi>=2017.4.17 in /home/yasmin/anaconda3/lib/python3.9/site-packages (from requests->webdriver_manager) (2022.12.7)\n",
            "\n",
            "\u001b[1m[\u001b[0m\u001b[34;49mnotice\u001b[0m\u001b[1;39;49m]\u001b[0m\u001b[39;49m A new release of pip is available: \u001b[0m\u001b[31;49m23.0.1\u001b[0m\u001b[39;49m -> \u001b[0m\u001b[32;49m23.1.2\u001b[0m\n",
            "\u001b[1m[\u001b[0m\u001b[34;49mnotice\u001b[0m\u001b[1;39;49m]\u001b[0m\u001b[39;49m To update, run: \u001b[0m\u001b[32;49mpip install --upgrade pip\u001b[0m\n"
          ]
        }
      ],
      "source": [
        "!pip install webdriver_manager"
      ]
    },
    {
      "cell_type": "code",
      "execution_count": null,
      "id": "d4b20afc",
      "metadata": {
        "scrolled": false,
        "id": "d4b20afc"
      },
      "outputs": [],
      "source": [
        "driver = webdriver.Chrome(service=Service(\"/home/aditya/Documents/chromedriver_linux64/chromedriver.exe\"))\n"
      ]
    },
    {
      "cell_type": "code",
      "execution_count": null,
      "id": "c6b105c8",
      "metadata": {
        "id": "c6b105c8"
      },
      "outputs": [],
      "source": [
        "url = 'https://www.sgh.com.sg/'"
      ]
    },
    {
      "cell_type": "code",
      "execution_count": null,
      "id": "6e11603c",
      "metadata": {
        "id": "6e11603c"
      },
      "outputs": [],
      "source": [
        "driver.get(url)"
      ]
    },
    {
      "cell_type": "code",
      "execution_count": null,
      "id": "fce2c768",
      "metadata": {
        "id": "fce2c768"
      },
      "outputs": [],
      "source": [
        "from selenium.webdriver.support import expected_conditions as EC\n",
        "\n",
        "# Wait for the element to be clickable\n",
        "element = WebDriverWait(driver, 10).until(EC.element_to_be_clickable((By.ID, 'term')))"
      ]
    },
    {
      "cell_type": "code",
      "execution_count": null,
      "id": "92788dd2",
      "metadata": {
        "id": "92788dd2"
      },
      "outputs": [],
      "source": [
        "element.send_keys('Find a doctor')"
      ]
    },
    {
      "cell_type": "code",
      "execution_count": null,
      "id": "c19e2779",
      "metadata": {
        "id": "c19e2779"
      },
      "outputs": [],
      "source": [
        "search = WebDriverWait(driver, 10).until(EC.element_to_be_clickable((By.ID, 'search')))\n",
        "search.click()"
      ]
    },
    {
      "cell_type": "code",
      "execution_count": null,
      "id": "e7f27afb",
      "metadata": {
        "id": "e7f27afb",
        "outputId": "c1e05e3c-f5f1-4821-cb59-5d8b7538ae3f"
      },
      "outputs": [
        {
          "name": "stdout",
          "output_type": "stream",
          "text": [
            "MedGen UID: 42426\n",
            "•Concept ID: C0019202\n",
            "• Disease or Syndrome\n"
          ]
        }
      ],
      "source": [
        "element = driver.find_element(By.CLASS_NAME, 'aux')\n",
        "\n",
        "dt_elements = element.find_elements(By.TAG_NAME, 'dt')\n",
        "dd_elements = element.find_elements(By.TAG_NAME, 'dd')\n",
        "\n",
        "# Iterate over the dt and dd elements and print their text\n",
        "for dt, dd in zip(dt_elements, dd_elements):\n",
        "    print(dt.text, dd.text)"
      ]
    },
    {
      "cell_type": "code",
      "execution_count": null,
      "id": "a2ba27cd",
      "metadata": {
        "id": "a2ba27cd",
        "outputId": "09725188-c933-43a0-d7c5-405c78ee6829"
      },
      "outputs": [
        {
          "data": {
            "text/plain": [
              "<selenium.webdriver.remote.webelement.WebElement (session=\"d2aee7bd10aad3065c305f55907331f2\", element=\"5F4060C2FE0C30C9C5A967006D906EC5_element_35\")>"
            ]
          },
          "execution_count": 268,
          "metadata": {},
          "output_type": "execute_result"
        }
      ],
      "source": [
        "element"
      ]
    },
    {
      "cell_type": "code",
      "execution_count": null,
      "id": "6dd09187",
      "metadata": {
        "id": "6dd09187",
        "outputId": "227fb3d8-7749-471b-c5b4-5b52c0f888f7"
      },
      "outputs": [
        {
          "name": "stdout",
          "output_type": "stream",
          "text": [
            "Synonyms:\n",
            "Hepatolenticular degeneration; Wilson's disease; WND\n",
            "SNOMED CT:\n",
            "Wilson's disease (88518009); Hepatolenticular degeneration syndrome (88518009); Copper storage disease (88518009); Wilson disease (88518009); Westphal-Strumpell syndrome (190823004); Westphal-Strumpell cerebral pseudosclerosis (190823004); Pseudosclerotic type of Wilson's disease (190823004); Westphal-Strumpell form of Wilson's disease (190823004); Hepatocerebral degeneration (88518009); Hepatolenticular degeneration (88518009); Kinnier-Wilson disease (88518009); Neurohepatic degeneration (88518009); Progressive lenticular degeneration (88518009); WD - Wilson's disease (88518009)\n",
            "Modes of inheritance:\n",
            "Autosomal recessive inheritance (Orphanet)\n",
            " \n",
            "Gene (location):\n",
            "ATP7B (13q14.3)\n",
            " \n",
            "Monarch Initiative:\n",
            "MONDO:0010200\n",
            "OMIM®:\n",
            "277900\n",
            "Orphanet:\n",
            "ORPHA905\n"
          ]
        }
      ],
      "source": [
        "element_1 = driver.find_element(By.CLASS_NAME, 'medgenTable')\n",
        "#print(element_1)\n",
        "tr_elements = element_1.find_elements(By.TAG_NAME, 'tr')\n",
        "#print(tr_elements)\n",
        "for tr in tr_elements:\n",
        "    td_elements = tr.find_elements(By.TAG_NAME, 'td')\n",
        "\n",
        "    for td in td_elements:\n",
        "        print(td.text)"
      ]
    },
    {
      "cell_type": "code",
      "execution_count": null,
      "id": "ffe52a20",
      "metadata": {
        "id": "ffe52a20"
      },
      "outputs": [],
      "source": []
    },
    {
      "cell_type": "code",
      "execution_count": null,
      "id": "22caa940",
      "metadata": {
        "id": "22caa940"
      },
      "outputs": [],
      "source": [
        "element_2 = driver.find_element(By.CLASS_NAME, 'rprt-tab')\n"
      ]
    },
    {
      "cell_type": "code",
      "execution_count": null,
      "id": "b6e7646a",
      "metadata": {
        "id": "b6e7646a"
      },
      "outputs": [],
      "source": [
        "info_list = []\n"
      ]
    },
    {
      "cell_type": "code",
      "execution_count": null,
      "id": "13714ab6",
      "metadata": {
        "scrolled": true,
        "id": "13714ab6",
        "outputId": "fc931268-fa7e-4f9d-fddc-850d29d099d6"
      },
      "outputs": [
        {
          "data": {
            "text/plain": [
              "\"Go to:\\nDisease characteristics\\nExcerpted from the GeneReview: Wilson Disease\\nWilson disease is a disorder of copper metabolism that, when untreated, can present with hepatic, neurologic, or psychiatric disturbances – or a combination of these – in individuals ages three years to older than 70 years. Manifestations in untreated individuals vary among and within families. Liver disease can include recurrent jaundice, simple acute self-limited hepatitis-like illness, autoimmune-type hepatitis, fulminant hepatic failure, or chronic liver disease. Neurologic presentations can include dysarthria, movement disorders (tremors, involuntary movements, chorea, choreoathetosis), dystonia (mask-like facies, rigidity, gait disturbance, pseudobulbar involvement), dysautonomia, seizures, sleep disorders, or insomnia. Psychiatric disturbances can include depression, bipolar disorder / bipolar spectrum disorder, neurotic behaviors, personality changes, or psychosis. Other multisystem involvement can include the eye (Kayser-Fleischer rings), hemolytic anemia, the kidneys, the endocrine glands, and the heart. [from GeneReviews]\\nFull text of GeneReview (by section):\\nSummary  |  Diagnosis  |  Clinical Characteristics  |  Genetically Related Disorders  |  Differential Diagnosis  |  Management  |  Genetic Counseling  |  Resources  |  Molecular Genetics  |  Chapter Notes  |  References\\nAuthors:\\nKarl Heinz Weiss  |  Michael Schilsky   view full author information\\nGo to:\\nAdditional descriptions\\nFrom OMIM\\nWilson disease is an autosomal recessive disorder characterized by dramatic build-up of intracellular hepatic copper with subsequent hepatic and neurologic abnormalities. De Bie et al. (2007) provided a detailed review of the molecular pathogenesis of Wilson disease.  http://www.omim.org/entry/277900\\nFrom MedlinePlus Genetics\\nWilson disease is an inherited disorder in which excessive amounts of copper accumulate in the body, particularly in the liver, brain, and eyes. The signs and symptoms of Wilson disease usually first appear between the ages of 6 and 45, but they most often begin during the teenage years. The features of this condition include a combination of liver disease and neurological and psychiatric problems.\\n\\nLiver disease is typically the initial feature of Wilson disease in affected children and young adults; individuals diagnosed at an older age usually do not have symptoms of liver problems, although they may have very mild liver disease. The signs and symptoms of liver disease include yellowing of the skin or whites of the eyes (jaundice), fatigue, loss of appetite, and abdominal swelling.\\n\\nNervous system or psychiatric problems are often the initial features in individuals diagnosed in adulthood and commonly occur in young adults with Wilson disease. Signs and symptoms of these problems can include clumsiness, tremors, difficulty walking, speech problems, impaired thinking ability, depression, anxiety, and mood swings.\\n\\nIn many individuals with Wilson disease, copper deposits in the front surface of the eye (the cornea) form a green-to-brownish ring, called the Kayser-Fleischer ring, that surrounds the colored part of the eye. Abnormalities in eye movements, such as a restricted ability to gaze upwards, may also occur.  https://medlineplus.gov/genetics/condition/wilson-disease\\nGo to:\\nClinical features\\nFrom HPO\\nShow allHide all\\nAbnormality of blood and blood-forming tissues\\nAbnormality of head or neck\\nAbnormality of limbs\\nAbnormality of metabolism/homeostasis\\nAbnormality of the digestive system\\nAbnormality of the endocrine system\\nAbnormality of the eye\\nAbnormality of the genitourinary system\\nAbnormality of the immune system\\nAbnormality of the musculoskeletal system\\nAbnormality of the nervous system\\nConstitutional symptom\\nNeoplasm\\nGo to:\\nTerm Hierarchy\\nGTR\\nMeSH\\nOrphanet\\nCClinical test,  RResearch test,  OOMIM,  GGeneReviews,  VClinVar  \\nCROGV\\nWilson disease\\nGo to:\\nProfessional guidelines\\nPubMed\\nWilson Disease: An Overview and Approach to Management.\\nMulligan C, Bronstein JM\\nNeurol Clin 2020 May;38(2):417-432. Epub 2020 Feb 28 doi: 10.1016/j.ncl.2020.01.005. PMID: 32279718\\nAdvances in Treatment of Wilson Disease.\\nAggarwal A, Bhatt M\\nTremor Other Hyperkinet Mov (N Y) 2018;8:525. Epub 2018 Feb 28 doi: 10.7916/D841881D. PMID: 29520330Free PMC Article\\nWilson Disease: Diagnosis, Treatment, and Follow-up.\\nSchilsky ML\\nClin Liver Dis 2017 Nov;21(4):755-767. Epub 2017 Aug 10 doi: 10.1016/j.cld.2017.06.011. PMID: 28987261\\nSee all (99)\\nGo to:\\nRecent clinical studies\\nEtiology\\nCerebral Iron Deposition in Neurodegeneration.\\nDusek P, Hofer T, Alexander J, Roos PM, Aaseth JO\\nBiomolecules 2022 May 17;12(5) doi: 10.3390/biom12050714. PMID: 35625641Free PMC Article\\nWilson disease.\\nAggarwal A, Bhatt M\\nCurr Opin Neurol 2020 Aug;33(4):534-542. doi: 10.1097/WCO.0000000000000837. PMID: 32657896\\nWilson disease in children and adolescents.\\nFernando M, van Mourik I, Wassmer E, Kelly D\\nArch Dis Child 2020 May;105(5):499-505. Epub 2020 Jan 23 doi: 10.1136/archdischild-2018-315705. PMID: 31974298\\nDietary Trace Minerals.\\nTako E\\nNutrients 2019 Nov 19;11(11) doi: 10.3390/nu11112823. PMID: 31752257Free PMC Article\\nZinc: an essential micronutrient.\\nSaper RB, Rash R\\nAm Fam Physician 2009 May 1;79(9):768-72. PMID: 20141096Free PMC Article\\nSee all (352)\\nDiagnosis\\nWilson disease.\\nAggarwal A, Bhatt M\\nCurr Opin Neurol 2020 Aug;33(4):534-542. doi: 10.1097/WCO.0000000000000837. PMID: 32657896\\nWilson Disease: An Overview and Approach to Management.\\nMulligan C, Bronstein JM\\nNeurol Clin 2020 May;38(2):417-432. Epub 2020 Feb 28 doi: 10.1016/j.ncl.2020.01.005. PMID: 32279718\\nWilson disease in children and adolescents.\\nFernando M, van Mourik I, Wassmer E, Kelly D\\nArch Dis Child 2020 May;105(5):499-505. Epub 2020 Jan 23 doi: 10.1136/archdischild-2018-315705. PMID: 31974298\\nWilson disease.\\nCzłonkowska A, Litwin T, Dusek P, Ferenci P, Lutsenko S, Medici V, Rybakowski JK, Weiss KH, Schilsky ML\\nNat Rev Dis Primers 2018 Sep 6;4(1):21. doi: 10.1038/s41572-018-0018-3. PMID: 30190489Free PMC Article\\nWilson Disease: Diagnosis, Treatment, and Follow-up.\\nSchilsky ML\\nClin Liver Dis 2017 Nov;21(4):755-767. Epub 2017 Aug 10 doi: 10.1016/j.cld.2017.06.011. PMID: 28987261\\nSee all (723)\\nTherapy\\nWilson Disease in Children.\\nKerkar N, Rana A\\nClin Liver Dis 2022 Aug;26(3):473-488. Epub 2022 Jun 25 doi: 10.1016/j.cld.2022.03.008. PMID: 35868686\\nWilson disease.\\nAggarwal A, Bhatt M\\nCurr Opin Neurol 2020 Aug;33(4):534-542. doi: 10.1097/WCO.0000000000000837. PMID: 32657896\\nWilson disease.\\nCzłonkowska A, Litwin T, Dusek P, Ferenci P, Lutsenko S, Medici V, Rybakowski JK, Weiss KH, Schilsky ML\\nNat Rev Dis Primers 2018 Sep 6;4(1):21. doi: 10.1038/s41572-018-0018-3. PMID: 30190489Free PMC Article\\nWilson Disease: Diagnosis, Treatment, and Follow-up.\\nSchilsky ML\\nClin Liver Dis 2017 Nov;21(4):755-767. Epub 2017 Aug 10 doi: 10.1016/j.cld.2017.06.011. PMID: 28987261\\nZinc: an essential micronutrient.\\nSaper RB, Rash R\\nAm Fam Physician 2009 May 1;79(9):768-72. PMID: 20141096Free PMC Article\\nSee all (281)\\nPrognosis\\nDirect Measurement of ATP7B Peptides Is Highly Effective in the Diagnosis of Wilson Disease.\\nCollins CJ, Yi F, Dayuha R, Duong P, Horslen S, Camarata M, Coskun AK, Houwen RHJ, Pop TL, Zoller H, Yoo HW, Jung SW, Weiss KH, Schilsky ML, Ferenci P, Hahn SH\\nGastroenterology 2021 Jun;160(7):2367-2382.e1. Epub 2021 Feb 25 doi: 10.1053/j.gastro.2021.02.052. PMID: 33640437Free PMC Article\\nWilson disease.\\nCzłonkowska A, Litwin T, Dusek P, Ferenci P, Lutsenko S, Medici V, Rybakowski JK, Weiss KH, Schilsky ML\\nNat Rev Dis Primers 2018 Sep 6;4(1):21. doi: 10.1038/s41572-018-0018-3. PMID: 30190489Free PMC Article\\nThe Role of Diagnosis and Treatment of Underlying Liver Disease for the Prognosis of Primary Liver Cancer.\\nShiani A, Narayanan S, Pena L, Friedman M\\nCancer Control 2017 Jul-Sep;24(3):1073274817729240. doi: 10.1177/1073274817729240. PMID: 28975833Free PMC Article\\nSalivary biomarkers and proteomics: future diagnostic and clinical utilities.\\nCastagnola M, Scarano E, Passali GC, Messana I, Cabras T, Iavarone F, Di Cintio G, Fiorita A, De Corso E, Paludetti G\\nActa Otorhinolaryngol Ital 2017 Apr;37(2):94-101. doi: 10.14639/0392-100X-1598. PMID: 28516971Free PMC Article\\nDiverse functional properties of Wilson disease ATP7B variants.\\nHuster D, Kühne A, Bhattacharjee A, Raines L, Jantsch V, Noe J, Schirrmeister W, Sommerer I, Sabri O, Berr F, Mössner J, Stieger B, Caca K, Lutsenko S\\nGastroenterology 2012 Apr;142(4):947-956.e5. Epub 2012 Jan 10 doi: 10.1053/j.gastro.2011.12.048. PMID: 22240481Free PMC Article\\nSee all (269)\\nClinical prediction guides\\nCerebral Iron Deposition in Neurodegeneration.\\nDusek P, Hofer T, Alexander J, Roos PM, Aaseth JO\\nBiomolecules 2022 May 17;12(5) doi: 10.3390/biom12050714. PMID: 35625641Free PMC Article\\nDesigning Clinical Trials in Wilson's Disease.\\nOtt P, Ala A, Askari FK, Czlonkowska A, Hilgers RD, Poujois A, Roberts EA, Sandahl TD, Weiss KH, Ferenci P, Schilsky ML\\nHepatology 2021 Dec;74(6):3460-3471. Epub 2021 Oct 5 doi: 10.1002/hep.32074. PMID: 34320232Free PMC Article\\nWilson Disease: Diagnosis, Treatment, and Follow-up.\\nSchilsky ML\\nClin Liver Dis 2017 Nov;21(4):755-767. Epub 2017 Aug 10 doi: 10.1016/j.cld.2017.06.011. PMID: 28987261\\nDiagnosis of Wilson disease.\\nFerenci P\\nHandb Clin Neurol 2017;142:171-180. doi: 10.1016/B978-0-444-63625-6.00014-8. PMID: 28433100\\nDiverse functional properties of Wilson disease ATP7B variants.\\nHuster D, Kühne A, Bhattacharjee A, Raines L, Jantsch V, Noe J, Schirrmeister W, Sommerer I, Sabri O, Berr F, Mössner J, Stieger B, Caca K, Lutsenko S\\nGastroenterology 2012 Apr;142(4):947-956.e5. Epub 2012 Jan 10 doi: 10.1053/j.gastro.2011.12.048. PMID: 22240481Free PMC Article\\nSee all (353)\\nGo to:\\nRecent systematic reviews\\nSerum glial fibrillary acidic protein is a body fluid biomarker: A valuable prognostic for neurological disease - A systematic review.\\nHeimfarth L, Passos FRS, Monteiro BS, Araújo AAS, Quintans Júnior LJ, Quintans JSS\\nInt Immunopharmacol 2022 Jun;107:108624. Epub 2022 Mar 4 doi: 10.1016/j.intimp.2022.108624. PMID: 35255304\\nSleep disorders in Wilson disease: a systematic review and meta-analysis.\\nXu J, Deng Q, Qin Q, Vgontzas AN, Basta M, Xie C, Li Y\\nJ Clin Sleep Med 2020 Feb 15;16(2):219-230. Epub 2020 Jan 13 doi: 10.5664/jcsm.8170. PMID: 31992405Free PMC Article\\nComparative effectiveness of common therapies for Wilson disease: A systematic review and meta-analysis of controlled studies.\\nAppenzeller-Herzog C, Mathes T, Heeres MLS, Weiss KH, Houwen RHJ, Ewald H\\nLiver Int 2019 Nov;39(11):2136-2152. Epub 2019 Jul 10 doi: 10.1111/liv.14179. PMID: 31206982\\nCognitive and psychiatric phenotypes of movement disorders in children: a systematic review.\\nBen-Pazi H, Jaworowski S, Shalev RS\\nDev Med Child Neurol 2011 Dec;53(12):1077-84. Epub 2011 Sep 27 doi: 10.1111/j.1469-8749.2011.04134.x. PMID: 21950517\\nSystematic review: clinical efficacy of chelator agents and zinc in the initial treatment of Wilson disease.\\nWiggelinkhuizen M, Tilanus ME, Bollen CW, Houwen RH\\nAliment Pharmacol Ther 2009 May 1;29(9):947-58. doi: 10.1111/j.1365-2036.2009.03959.x. PMID: 19210288\\nSee all (8)\""
            ]
          },
          "execution_count": 15,
          "metadata": {},
          "output_type": "execute_result"
        }
      ],
      "source": [
        "element_2.text"
      ]
    },
    {
      "cell_type": "code",
      "execution_count": null,
      "id": "7b2f87c0",
      "metadata": {
        "id": "7b2f87c0",
        "outputId": "7f335575-3d96-4b3d-828a-f5efd6e45ea8"
      },
      "outputs": [
        {
          "data": {
            "text/plain": [
              "'rprt-tab'"
            ]
          },
          "execution_count": 254,
          "metadata": {},
          "output_type": "execute_result"
        }
      ],
      "source": [
        "element_2.get_attribute('class')"
      ]
    },
    {
      "cell_type": "code",
      "execution_count": null,
      "id": "55017e89",
      "metadata": {
        "id": "55017e89"
      },
      "outputs": [],
      "source": [
        "element2 = [element_2]"
      ]
    },
    {
      "cell_type": "code",
      "execution_count": null,
      "id": "df28c462",
      "metadata": {
        "id": "df28c462",
        "outputId": "199a7046-c4a4-427b-9a86-8eab9a7fa716"
      },
      "outputs": [
        {
          "data": {
            "text/plain": [
              "[<selenium.webdriver.remote.webelement.WebElement (session=\"7875e6b9f37846773fe05bdf480b1c7e\", element=\"99177A290EBD9814954A814BD06341EE_element_65\")>]"
            ]
          },
          "execution_count": 13,
          "metadata": {},
          "output_type": "execute_result"
        }
      ],
      "source": [
        "element2"
      ]
    },
    {
      "cell_type": "code",
      "execution_count": null,
      "id": "3db727ee",
      "metadata": {
        "id": "3db727ee"
      },
      "outputs": [],
      "source": [
        ""
      ]
    },
    {
      "cell_type": "code",
      "execution_count": null,
      "id": "11016a36",
      "metadata": {
        "scrolled": false,
        "id": "11016a36",
        "outputId": "31b37f2a-d79d-4b1a-f236-7de128c6d975"
      },
      "outputs": [
        {
          "name": "stdout",
          "output_type": "stream",
          "text": [
            "Go to:\n",
            "Disease characteristics\n",
            "Excerpted from the GeneReview: Wilson Disease\n",
            "Wilson disease is a disorder of copper metabolism that, when untreated, can present with hepatic, neurologic, or psychiatric disturbances – or a combination of these – in individuals ages three years to older than 70 years. Manifestations in untreated individuals vary among and within families. Liver disease can include recurrent jaundice, simple acute self-limited hepatitis-like illness, autoimmune-type hepatitis, fulminant hepatic failure, or chronic liver disease. Neurologic presentations can include dysarthria, movement disorders (tremors, involuntary movements, chorea, choreoathetosis), dystonia (mask-like facies, rigidity, gait disturbance, pseudobulbar involvement), dysautonomia, seizures, sleep disorders, or insomnia. Psychiatric disturbances can include depression, bipolar disorder / bipolar spectrum disorder, neurotic behaviors, personality changes, or psychosis. Other multisystem involvement can include the eye (Kayser-Fleischer rings), hemolytic anemia, the kidneys, the endocrine glands, and the heart. [from GeneReviews]\n",
            "Full text of GeneReview (by section):\n",
            "Summary  |  Diagnosis  |  Clinical Characteristics  |  Genetically Related Disorders  |  Differential Diagnosis  |  Management  |  Genetic Counseling  |  Resources  |  Molecular Genetics  |  Chapter Notes  |  References\n",
            "Authors:\n",
            "Karl Heinz Weiss  |  Michael Schilsky   view full author information\n",
            "Go to:\n",
            "Additional descriptions\n",
            "From OMIM\n",
            "Wilson disease is an autosomal recessive disorder characterized by dramatic build-up of intracellular hepatic copper with subsequent hepatic and neurologic abnormalities. De Bie et al. (2007) provided a detailed review of the molecular pathogenesis of Wilson disease.  http://www.omim.org/entry/277900\n",
            "From MedlinePlus Genetics\n",
            "Wilson disease is an inherited disorder in which excessive amounts of copper accumulate in the body, particularly in the liver, brain, and eyes. The signs and symptoms of Wilson disease usually first appear between the ages of 6 and 45, but they most often begin during the teenage years. The features of this condition include a combination of liver disease and neurological and psychiatric problems.\n",
            "\n",
            "Liver disease is typically the initial feature of Wilson disease in affected children and young adults; individuals diagnosed at an older age usually do not have symptoms of liver problems, although they may have very mild liver disease. The signs and symptoms of liver disease include yellowing of the skin or whites of the eyes (jaundice), fatigue, loss of appetite, and abdominal swelling.\n",
            "\n",
            "Nervous system or psychiatric problems are often the initial features in individuals diagnosed in adulthood and commonly occur in young adults with Wilson disease. Signs and symptoms of these problems can include clumsiness, tremors, difficulty walking, speech problems, impaired thinking ability, depression, anxiety, and mood swings.\n",
            "\n",
            "In many individuals with Wilson disease, copper deposits in the front surface of the eye (the cornea) form a green-to-brownish ring, called the Kayser-Fleischer ring, that surrounds the colored part of the eye. Abnormalities in eye movements, such as a restricted ability to gaze upwards, may also occur.  https://medlineplus.gov/genetics/condition/wilson-disease\n",
            "Go to:\n",
            "Clinical features\n",
            "From HPO\n",
            "Show allHide all\n",
            "Abnormality of blood and blood-forming tissues\n",
            "Abnormality of head or neck\n",
            "Abnormality of limbs\n",
            "Abnormality of metabolism/homeostasis\n",
            "Abnormality of the digestive system\n",
            "Abnormality of the endocrine system\n",
            "Abnormality of the eye\n",
            "Abnormality of the genitourinary system\n",
            "Abnormality of the immune system\n",
            "Abnormality of the musculoskeletal system\n",
            "Abnormality of the nervous system\n",
            "Constitutional symptom\n",
            "Neoplasm\n",
            "Go to:\n",
            "Term Hierarchy\n",
            "GTR\n",
            "MeSH\n",
            "Orphanet\n",
            "CClinical test,  RResearch test,  OOMIM,  GGeneReviews,  VClinVar  \n",
            "CROGV\n",
            "Wilson disease\n",
            "Go to:\n",
            "Professional guidelines\n",
            "PubMed\n",
            "Wilson Disease: An Overview and Approach to Management.\n",
            "Mulligan C, Bronstein JM\n",
            "Neurol Clin 2020 May;38(2):417-432. Epub 2020 Feb 28 doi: 10.1016/j.ncl.2020.01.005. PMID: 32279718\n",
            "Advances in Treatment of Wilson Disease.\n",
            "Aggarwal A, Bhatt M\n",
            "Tremor Other Hyperkinet Mov (N Y) 2018;8:525. Epub 2018 Feb 28 doi: 10.7916/D841881D. PMID: 29520330Free PMC Article\n",
            "Wilson Disease: Diagnosis, Treatment, and Follow-up.\n",
            "Schilsky ML\n",
            "Clin Liver Dis 2017 Nov;21(4):755-767. Epub 2017 Aug 10 doi: 10.1016/j.cld.2017.06.011. PMID: 28987261\n",
            "See all (99)\n",
            "Go to:\n",
            "Recent clinical studies\n",
            "Etiology\n",
            "Cerebral Iron Deposition in Neurodegeneration.\n",
            "Dusek P, Hofer T, Alexander J, Roos PM, Aaseth JO\n",
            "Biomolecules 2022 May 17;12(5) doi: 10.3390/biom12050714. PMID: 35625641Free PMC Article\n",
            "Wilson disease.\n",
            "Aggarwal A, Bhatt M\n",
            "Curr Opin Neurol 2020 Aug;33(4):534-542. doi: 10.1097/WCO.0000000000000837. PMID: 32657896\n",
            "Wilson disease in children and adolescents.\n",
            "Fernando M, van Mourik I, Wassmer E, Kelly D\n",
            "Arch Dis Child 2020 May;105(5):499-505. Epub 2020 Jan 23 doi: 10.1136/archdischild-2018-315705. PMID: 31974298\n",
            "Dietary Trace Minerals.\n",
            "Tako E\n",
            "Nutrients 2019 Nov 19;11(11) doi: 10.3390/nu11112823. PMID: 31752257Free PMC Article\n",
            "Zinc: an essential micronutrient.\n",
            "Saper RB, Rash R\n",
            "Am Fam Physician 2009 May 1;79(9):768-72. PMID: 20141096Free PMC Article\n",
            "See all (352)\n",
            "Diagnosis\n",
            "Wilson disease.\n",
            "Aggarwal A, Bhatt M\n",
            "Curr Opin Neurol 2020 Aug;33(4):534-542. doi: 10.1097/WCO.0000000000000837. PMID: 32657896\n",
            "Wilson Disease: An Overview and Approach to Management.\n",
            "Mulligan C, Bronstein JM\n",
            "Neurol Clin 2020 May;38(2):417-432. Epub 2020 Feb 28 doi: 10.1016/j.ncl.2020.01.005. PMID: 32279718\n",
            "Wilson disease in children and adolescents.\n",
            "Fernando M, van Mourik I, Wassmer E, Kelly D\n",
            "Arch Dis Child 2020 May;105(5):499-505. Epub 2020 Jan 23 doi: 10.1136/archdischild-2018-315705. PMID: 31974298\n",
            "Wilson disease.\n",
            "Członkowska A, Litwin T, Dusek P, Ferenci P, Lutsenko S, Medici V, Rybakowski JK, Weiss KH, Schilsky ML\n",
            "Nat Rev Dis Primers 2018 Sep 6;4(1):21. doi: 10.1038/s41572-018-0018-3. PMID: 30190489Free PMC Article\n",
            "Wilson Disease: Diagnosis, Treatment, and Follow-up.\n",
            "Schilsky ML\n",
            "Clin Liver Dis 2017 Nov;21(4):755-767. Epub 2017 Aug 10 doi: 10.1016/j.cld.2017.06.011. PMID: 28987261\n",
            "See all (723)\n",
            "Therapy\n",
            "Wilson Disease in Children.\n",
            "Kerkar N, Rana A\n",
            "Clin Liver Dis 2022 Aug;26(3):473-488. Epub 2022 Jun 25 doi: 10.1016/j.cld.2022.03.008. PMID: 35868686\n",
            "Wilson disease.\n",
            "Aggarwal A, Bhatt M\n",
            "Curr Opin Neurol 2020 Aug;33(4):534-542. doi: 10.1097/WCO.0000000000000837. PMID: 32657896\n",
            "Wilson disease.\n",
            "Członkowska A, Litwin T, Dusek P, Ferenci P, Lutsenko S, Medici V, Rybakowski JK, Weiss KH, Schilsky ML\n",
            "Nat Rev Dis Primers 2018 Sep 6;4(1):21. doi: 10.1038/s41572-018-0018-3. PMID: 30190489Free PMC Article\n",
            "Wilson Disease: Diagnosis, Treatment, and Follow-up.\n",
            "Schilsky ML\n",
            "Clin Liver Dis 2017 Nov;21(4):755-767. Epub 2017 Aug 10 doi: 10.1016/j.cld.2017.06.011. PMID: 28987261\n",
            "Zinc: an essential micronutrient.\n",
            "Saper RB, Rash R\n",
            "Am Fam Physician 2009 May 1;79(9):768-72. PMID: 20141096Free PMC Article\n",
            "See all (281)\n",
            "Prognosis\n",
            "Direct Measurement of ATP7B Peptides Is Highly Effective in the Diagnosis of Wilson Disease.\n",
            "Collins CJ, Yi F, Dayuha R, Duong P, Horslen S, Camarata M, Coskun AK, Houwen RHJ, Pop TL, Zoller H, Yoo HW, Jung SW, Weiss KH, Schilsky ML, Ferenci P, Hahn SH\n",
            "Gastroenterology 2021 Jun;160(7):2367-2382.e1. Epub 2021 Feb 25 doi: 10.1053/j.gastro.2021.02.052. PMID: 33640437Free PMC Article\n",
            "Wilson disease.\n",
            "Członkowska A, Litwin T, Dusek P, Ferenci P, Lutsenko S, Medici V, Rybakowski JK, Weiss KH, Schilsky ML\n",
            "Nat Rev Dis Primers 2018 Sep 6;4(1):21. doi: 10.1038/s41572-018-0018-3. PMID: 30190489Free PMC Article\n",
            "The Role of Diagnosis and Treatment of Underlying Liver Disease for the Prognosis of Primary Liver Cancer.\n",
            "Shiani A, Narayanan S, Pena L, Friedman M\n",
            "Cancer Control 2017 Jul-Sep;24(3):1073274817729240. doi: 10.1177/1073274817729240. PMID: 28975833Free PMC Article\n",
            "Salivary biomarkers and proteomics: future diagnostic and clinical utilities.\n",
            "Castagnola M, Scarano E, Passali GC, Messana I, Cabras T, Iavarone F, Di Cintio G, Fiorita A, De Corso E, Paludetti G\n",
            "Acta Otorhinolaryngol Ital 2017 Apr;37(2):94-101. doi: 10.14639/0392-100X-1598. PMID: 28516971Free PMC Article\n",
            "Diverse functional properties of Wilson disease ATP7B variants.\n",
            "Huster D, Kühne A, Bhattacharjee A, Raines L, Jantsch V, Noe J, Schirrmeister W, Sommerer I, Sabri O, Berr F, Mössner J, Stieger B, Caca K, Lutsenko S\n",
            "Gastroenterology 2012 Apr;142(4):947-956.e5. Epub 2012 Jan 10 doi: 10.1053/j.gastro.2011.12.048. PMID: 22240481Free PMC Article\n",
            "See all (269)\n",
            "Clinical prediction guides\n",
            "Cerebral Iron Deposition in Neurodegeneration.\n",
            "Dusek P, Hofer T, Alexander J, Roos PM, Aaseth JO\n",
            "Biomolecules 2022 May 17;12(5) doi: 10.3390/biom12050714. PMID: 35625641Free PMC Article\n",
            "Designing Clinical Trials in Wilson's Disease.\n",
            "Ott P, Ala A, Askari FK, Czlonkowska A, Hilgers RD, Poujois A, Roberts EA, Sandahl TD, Weiss KH, Ferenci P, Schilsky ML\n",
            "Hepatology 2021 Dec;74(6):3460-3471. Epub 2021 Oct 5 doi: 10.1002/hep.32074. PMID: 34320232Free PMC Article\n",
            "Wilson Disease: Diagnosis, Treatment, and Follow-up.\n",
            "Schilsky ML\n",
            "Clin Liver Dis 2017 Nov;21(4):755-767. Epub 2017 Aug 10 doi: 10.1016/j.cld.2017.06.011. PMID: 28987261\n",
            "Diagnosis of Wilson disease.\n",
            "Ferenci P\n",
            "Handb Clin Neurol 2017;142:171-180. doi: 10.1016/B978-0-444-63625-6.00014-8. PMID: 28433100\n",
            "Diverse functional properties of Wilson disease ATP7B variants.\n",
            "Huster D, Kühne A, Bhattacharjee A, Raines L, Jantsch V, Noe J, Schirrmeister W, Sommerer I, Sabri O, Berr F, Mössner J, Stieger B, Caca K, Lutsenko S\n",
            "Gastroenterology 2012 Apr;142(4):947-956.e5. Epub 2012 Jan 10 doi: 10.1053/j.gastro.2011.12.048. PMID: 22240481Free PMC Article\n",
            "See all (353)\n",
            "Go to:\n",
            "Recent systematic reviews\n",
            "Serum glial fibrillary acidic protein is a body fluid biomarker: A valuable prognostic for neurological disease - A systematic review.\n",
            "Heimfarth L, Passos FRS, Monteiro BS, Araújo AAS, Quintans Júnior LJ, Quintans JSS\n",
            "Int Immunopharmacol 2022 Jun;107:108624. Epub 2022 Mar 4 doi: 10.1016/j.intimp.2022.108624. PMID: 35255304\n",
            "Sleep disorders in Wilson disease: a systematic review and meta-analysis.\n",
            "Xu J, Deng Q, Qin Q, Vgontzas AN, Basta M, Xie C, Li Y\n",
            "J Clin Sleep Med 2020 Feb 15;16(2):219-230. Epub 2020 Jan 13 doi: 10.5664/jcsm.8170. PMID: 31992405Free PMC Article\n",
            "Comparative effectiveness of common therapies for Wilson disease: A systematic review and meta-analysis of controlled studies.\n",
            "Appenzeller-Herzog C, Mathes T, Heeres MLS, Weiss KH, Houwen RHJ, Ewald H\n",
            "Liver Int 2019 Nov;39(11):2136-2152. Epub 2019 Jul 10 doi: 10.1111/liv.14179. PMID: 31206982\n",
            "Cognitive and psychiatric phenotypes of movement disorders in children: a systematic review.\n",
            "Ben-Pazi H, Jaworowski S, Shalev RS\n",
            "Dev Med Child Neurol 2011 Dec;53(12):1077-84. Epub 2011 Sep 27 doi: 10.1111/j.1469-8749.2011.04134.x. PMID: 21950517\n",
            "Systematic review: clinical efficacy of chelator agents and zinc in the initial treatment of Wilson disease.\n",
            "Wiggelinkhuizen M, Tilanus ME, Bollen CW, Houwen RH\n",
            "Aliment Pharmacol Ther 2009 May 1;29(9):947-58. doi: 10.1111/j.1365-2036.2009.03959.x. PMID: 19210288\n",
            "See all (8)\n"
          ]
        }
      ],
      "source": [
        "info_list.append(element_2.text)\n",
        "sorted_list = sorted(info_list)\n",
        "\n",
        "# Print the sorted list\n",
        "for info in sorted_list:\n",
        "    print(info)"
      ]
    },
    {
      "cell_type": "code",
      "execution_count": null,
      "id": "736909a7",
      "metadata": {
        "id": "736909a7"
      },
      "outputs": [],
      "source": []
    },
    {
      "cell_type": "code",
      "execution_count": null,
      "id": "8fd61014",
      "metadata": {
        "scrolled": false,
        "id": "8fd61014",
        "outputId": "7df23540-c58a-4ab1-c943-de4e9342c296"
      },
      "outputs": [
        {
          "name": "stdout",
          "output_type": "stream",
          "text": [
            "MedGen UID: 42426\n",
            "•Concept ID: C0019202\n",
            "• Disease or Syndrome\n",
            "Synonyms:\n",
            "Hepatolenticular degeneration; Wilson's disease; WND\n",
            "SNOMED CT:\n",
            "Wilson's disease (88518009); Hepatolenticular degeneration syndrome (88518009); Copper storage disease (88518009); Wilson disease (88518009); Westphal-Strumpell syndrome (190823004); Westphal-Strumpell cerebral pseudosclerosis (190823004); Pseudosclerotic type of Wilson's disease (190823004); Westphal-Strumpell form of Wilson's disease (190823004); Hepatocerebral degeneration (88518009); Hepatolenticular degeneration (88518009); Kinnier-Wilson disease (88518009); Neurohepatic degeneration (88518009); Progressive lenticular degeneration (88518009); WD - Wilson's disease (88518009)\n",
            "Modes of inheritance:\n",
            "Autosomal recessive inheritance (Orphanet)\n",
            " \n",
            "Gene (location):\n",
            "ATP7B (13q14.3)\n",
            " \n",
            "Monarch Initiative:\n",
            "MONDO:0010200\n",
            "OMIM®:\n",
            "277900\n",
            "Orphanet:\n",
            "ORPHA905\n",
            "Go to:\n",
            "Disease characteristics\n",
            "Excerpted from the GeneReview: Wilson Disease\n",
            "Wilson disease is a disorder of copper metabolism that, when untreated, can present with hepatic, neurologic, or psychiatric disturbances – or a combination of these – in individuals ages three years to older than 70 years. Manifestations in untreated individuals vary among and within families. Liver disease can include recurrent jaundice, simple acute self-limited hepatitis-like illness, autoimmune-type hepatitis, fulminant hepatic failure, or chronic liver disease. Neurologic presentations can include dysarthria, movement disorders (tremors, involuntary movements, chorea, choreoathetosis), dystonia (mask-like facies, rigidity, gait disturbance, pseudobulbar involvement), dysautonomia, seizures, sleep disorders, or insomnia. Psychiatric disturbances can include depression, bipolar disorder / bipolar spectrum disorder, neurotic behaviors, personality changes, or psychosis. Other multisystem involvement can include the eye (Kayser-Fleischer rings), hemolytic anemia, the kidneys, the endocrine glands, and the heart. [from GeneReviews]\n",
            "Full text of GeneReview (by section):\n",
            "Summary  |  Diagnosis  |  Clinical Characteristics  |  Genetically Related Disorders  |  Differential Diagnosis  |  Management  |  Genetic Counseling  |  Resources  |  Molecular Genetics  |  Chapter Notes  |  References\n",
            "Authors:\n",
            "Karl Heinz Weiss  |  Michael Schilsky   view full author information\n",
            "Go to:\n",
            "Additional descriptions\n",
            "From OMIM\n",
            "Wilson disease is an autosomal recessive disorder characterized by dramatic build-up of intracellular hepatic copper with subsequent hepatic and neurologic abnormalities. De Bie et al. (2007) provided a detailed review of the molecular pathogenesis of Wilson disease.  http://www.omim.org/entry/277900\n",
            "From MedlinePlus Genetics\n",
            "Wilson disease is an inherited disorder in which excessive amounts of copper accumulate in the body, particularly in the liver, brain, and eyes. The signs and symptoms of Wilson disease usually first appear between the ages of 6 and 45, but they most often begin during the teenage years. The features of this condition include a combination of liver disease and neurological and psychiatric problems.\n",
            "\n",
            "Liver disease is typically the initial feature of Wilson disease in affected children and young adults; individuals diagnosed at an older age usually do not have symptoms of liver problems, although they may have very mild liver disease. The signs and symptoms of liver disease include yellowing of the skin or whites of the eyes (jaundice), fatigue, loss of appetite, and abdominal swelling.\n",
            "\n",
            "Nervous system or psychiatric problems are often the initial features in individuals diagnosed in adulthood and commonly occur in young adults with Wilson disease. Signs and symptoms of these problems can include clumsiness, tremors, difficulty walking, speech problems, impaired thinking ability, depression, anxiety, and mood swings.\n",
            "\n",
            "In many individuals with Wilson disease, copper deposits in the front surface of the eye (the cornea) form a green-to-brownish ring, called the Kayser-Fleischer ring, that surrounds the colored part of the eye. Abnormalities in eye movements, such as a restricted ability to gaze upwards, may also occur.  https://medlineplus.gov/genetics/condition/wilson-disease\n",
            "Go to:\n",
            "Clinical features\n",
            "From HPO\n",
            "Show allHide all\n",
            "Abnormality of blood and blood-forming tissues\n",
            "Abnormality of head or neck\n",
            "Abnormality of limbs\n",
            "Abnormality of metabolism/homeostasis\n",
            "Abnormality of the digestive system\n",
            "Abnormality of the endocrine system\n",
            "Abnormality of the eye\n",
            "Abnormality of the genitourinary system\n",
            "Abnormality of the immune system\n",
            "Abnormality of the musculoskeletal system\n",
            "Abnormality of the nervous system\n",
            "Constitutional symptom\n",
            "Neoplasm\n",
            "Go to:\n",
            "Term Hierarchy\n",
            "GTR\n",
            "MeSH\n",
            "Orphanet\n",
            "CClinical test,  RResearch test,  OOMIM,  GGeneReviews,  VClinVar  \n",
            "CROGV\n",
            "Wilson disease\n",
            "Go to:\n",
            "Professional guidelines\n",
            "PubMed\n",
            "Wilson Disease: An Overview and Approach to Management.\n",
            "Mulligan C, Bronstein JM\n",
            "Neurol Clin 2020 May;38(2):417-432. Epub 2020 Feb 28 doi: 10.1016/j.ncl.2020.01.005. PMID: 32279718\n",
            "Advances in Treatment of Wilson Disease.\n",
            "Aggarwal A, Bhatt M\n",
            "Tremor Other Hyperkinet Mov (N Y) 2018;8:525. Epub 2018 Feb 28 doi: 10.7916/D841881D. PMID: 29520330Free PMC Article\n",
            "Wilson Disease: Diagnosis, Treatment, and Follow-up.\n",
            "Schilsky ML\n",
            "Clin Liver Dis 2017 Nov;21(4):755-767. Epub 2017 Aug 10 doi: 10.1016/j.cld.2017.06.011. PMID: 28987261\n",
            "See all (99)\n",
            "Go to:\n",
            "Recent clinical studies\n",
            "Etiology\n",
            "Cerebral Iron Deposition in Neurodegeneration.\n",
            "Dusek P, Hofer T, Alexander J, Roos PM, Aaseth JO\n",
            "Biomolecules 2022 May 17;12(5) doi: 10.3390/biom12050714. PMID: 35625641Free PMC Article\n",
            "Wilson disease.\n",
            "Aggarwal A, Bhatt M\n",
            "Curr Opin Neurol 2020 Aug;33(4):534-542. doi: 10.1097/WCO.0000000000000837. PMID: 32657896\n",
            "Wilson disease in children and adolescents.\n",
            "Fernando M, van Mourik I, Wassmer E, Kelly D\n",
            "Arch Dis Child 2020 May;105(5):499-505. Epub 2020 Jan 23 doi: 10.1136/archdischild-2018-315705. PMID: 31974298\n",
            "Dietary Trace Minerals.\n",
            "Tako E\n",
            "Nutrients 2019 Nov 19;11(11) doi: 10.3390/nu11112823. PMID: 31752257Free PMC Article\n",
            "Zinc: an essential micronutrient.\n",
            "Saper RB, Rash R\n",
            "Am Fam Physician 2009 May 1;79(9):768-72. PMID: 20141096Free PMC Article\n",
            "See all (352)\n",
            "Diagnosis\n",
            "Wilson disease.\n",
            "Aggarwal A, Bhatt M\n",
            "Curr Opin Neurol 2020 Aug;33(4):534-542. doi: 10.1097/WCO.0000000000000837. PMID: 32657896\n",
            "Wilson Disease: An Overview and Approach to Management.\n",
            "Mulligan C, Bronstein JM\n",
            "Neurol Clin 2020 May;38(2):417-432. Epub 2020 Feb 28 doi: 10.1016/j.ncl.2020.01.005. PMID: 32279718\n",
            "Wilson disease in children and adolescents.\n",
            "Fernando M, van Mourik I, Wassmer E, Kelly D\n",
            "Arch Dis Child 2020 May;105(5):499-505. Epub 2020 Jan 23 doi: 10.1136/archdischild-2018-315705. PMID: 31974298\n",
            "Wilson disease.\n",
            "Członkowska A, Litwin T, Dusek P, Ferenci P, Lutsenko S, Medici V, Rybakowski JK, Weiss KH, Schilsky ML\n",
            "Nat Rev Dis Primers 2018 Sep 6;4(1):21. doi: 10.1038/s41572-018-0018-3. PMID: 30190489Free PMC Article\n",
            "Wilson Disease: Diagnosis, Treatment, and Follow-up.\n",
            "Schilsky ML\n",
            "Clin Liver Dis 2017 Nov;21(4):755-767. Epub 2017 Aug 10 doi: 10.1016/j.cld.2017.06.011. PMID: 28987261\n",
            "See all (723)\n",
            "Therapy\n",
            "Wilson Disease in Children.\n",
            "Kerkar N, Rana A\n",
            "Clin Liver Dis 2022 Aug;26(3):473-488. Epub 2022 Jun 25 doi: 10.1016/j.cld.2022.03.008. PMID: 35868686\n",
            "Wilson disease.\n",
            "Aggarwal A, Bhatt M\n",
            "Curr Opin Neurol 2020 Aug;33(4):534-542. doi: 10.1097/WCO.0000000000000837. PMID: 32657896\n",
            "Wilson disease.\n",
            "Członkowska A, Litwin T, Dusek P, Ferenci P, Lutsenko S, Medici V, Rybakowski JK, Weiss KH, Schilsky ML\n",
            "Nat Rev Dis Primers 2018 Sep 6;4(1):21. doi: 10.1038/s41572-018-0018-3. PMID: 30190489Free PMC Article\n",
            "Wilson Disease: Diagnosis, Treatment, and Follow-up.\n",
            "Schilsky ML\n",
            "Clin Liver Dis 2017 Nov;21(4):755-767. Epub 2017 Aug 10 doi: 10.1016/j.cld.2017.06.011. PMID: 28987261\n",
            "Zinc: an essential micronutrient.\n",
            "Saper RB, Rash R\n",
            "Am Fam Physician 2009 May 1;79(9):768-72. PMID: 20141096Free PMC Article\n",
            "See all (281)\n",
            "Prognosis\n",
            "Direct Measurement of ATP7B Peptides Is Highly Effective in the Diagnosis of Wilson Disease.\n",
            "Collins CJ, Yi F, Dayuha R, Duong P, Horslen S, Camarata M, Coskun AK, Houwen RHJ, Pop TL, Zoller H, Yoo HW, Jung SW, Weiss KH, Schilsky ML, Ferenci P, Hahn SH\n",
            "Gastroenterology 2021 Jun;160(7):2367-2382.e1. Epub 2021 Feb 25 doi: 10.1053/j.gastro.2021.02.052. PMID: 33640437Free PMC Article\n",
            "Wilson disease.\n",
            "Członkowska A, Litwin T, Dusek P, Ferenci P, Lutsenko S, Medici V, Rybakowski JK, Weiss KH, Schilsky ML\n",
            "Nat Rev Dis Primers 2018 Sep 6;4(1):21. doi: 10.1038/s41572-018-0018-3. PMID: 30190489Free PMC Article\n",
            "The Role of Diagnosis and Treatment of Underlying Liver Disease for the Prognosis of Primary Liver Cancer.\n",
            "Shiani A, Narayanan S, Pena L, Friedman M\n",
            "Cancer Control 2017 Jul-Sep;24(3):1073274817729240. doi: 10.1177/1073274817729240. PMID: 28975833Free PMC Article\n",
            "Salivary biomarkers and proteomics: future diagnostic and clinical utilities.\n",
            "Castagnola M, Scarano E, Passali GC, Messana I, Cabras T, Iavarone F, Di Cintio G, Fiorita A, De Corso E, Paludetti G\n",
            "Acta Otorhinolaryngol Ital 2017 Apr;37(2):94-101. doi: 10.14639/0392-100X-1598. PMID: 28516971Free PMC Article\n",
            "Diverse functional properties of Wilson disease ATP7B variants.\n",
            "Huster D, Kühne A, Bhattacharjee A, Raines L, Jantsch V, Noe J, Schirrmeister W, Sommerer I, Sabri O, Berr F, Mössner J, Stieger B, Caca K, Lutsenko S\n",
            "Gastroenterology 2012 Apr;142(4):947-956.e5. Epub 2012 Jan 10 doi: 10.1053/j.gastro.2011.12.048. PMID: 22240481Free PMC Article\n",
            "See all (269)\n",
            "Clinical prediction guides\n",
            "Cerebral Iron Deposition in Neurodegeneration.\n",
            "Dusek P, Hofer T, Alexander J, Roos PM, Aaseth JO\n",
            "Biomolecules 2022 May 17;12(5) doi: 10.3390/biom12050714. PMID: 35625641Free PMC Article\n",
            "Designing Clinical Trials in Wilson's Disease.\n",
            "Ott P, Ala A, Askari FK, Czlonkowska A, Hilgers RD, Poujois A, Roberts EA, Sandahl TD, Weiss KH, Ferenci P, Schilsky ML\n",
            "Hepatology 2021 Dec;74(6):3460-3471. Epub 2021 Oct 5 doi: 10.1002/hep.32074. PMID: 34320232Free PMC Article\n",
            "Wilson Disease: Diagnosis, Treatment, and Follow-up.\n",
            "Schilsky ML\n",
            "Clin Liver Dis 2017 Nov;21(4):755-767. Epub 2017 Aug 10 doi: 10.1016/j.cld.2017.06.011. PMID: 28987261\n",
            "Diagnosis of Wilson disease.\n",
            "Ferenci P\n",
            "Handb Clin Neurol 2017;142:171-180. doi: 10.1016/B978-0-444-63625-6.00014-8. PMID: 28433100\n",
            "Diverse functional properties of Wilson disease ATP7B variants.\n",
            "Huster D, Kühne A, Bhattacharjee A, Raines L, Jantsch V, Noe J, Schirrmeister W, Sommerer I, Sabri O, Berr F, Mössner J, Stieger B, Caca K, Lutsenko S\n",
            "Gastroenterology 2012 Apr;142(4):947-956.e5. Epub 2012 Jan 10 doi: 10.1053/j.gastro.2011.12.048. PMID: 22240481Free PMC Article\n",
            "See all (353)\n",
            "Go to:\n",
            "Recent systematic reviews\n",
            "Serum glial fibrillary acidic protein is a body fluid biomarker: A valuable prognostic for neurological disease - A systematic review.\n",
            "Heimfarth L, Passos FRS, Monteiro BS, Araújo AAS, Quintans Júnior LJ, Quintans JSS\n",
            "Int Immunopharmacol 2022 Jun;107:108624. Epub 2022 Mar 4 doi: 10.1016/j.intimp.2022.108624. PMID: 35255304\n",
            "Sleep disorders in Wilson disease: a systematic review and meta-analysis.\n",
            "Xu J, Deng Q, Qin Q, Vgontzas AN, Basta M, Xie C, Li Y\n",
            "J Clin Sleep Med 2020 Feb 15;16(2):219-230. Epub 2020 Jan 13 doi: 10.5664/jcsm.8170. PMID: 31992405Free PMC Article\n",
            "Comparative effectiveness of common therapies for Wilson disease: A systematic review and meta-analysis of controlled studies.\n",
            "Appenzeller-Herzog C, Mathes T, Heeres MLS, Weiss KH, Houwen RHJ, Ewald H\n",
            "Liver Int 2019 Nov;39(11):2136-2152. Epub 2019 Jul 10 doi: 10.1111/liv.14179. PMID: 31206982\n",
            "Cognitive and psychiatric phenotypes of movement disorders in children: a systematic review.\n",
            "Ben-Pazi H, Jaworowski S, Shalev RS\n",
            "Dev Med Child Neurol 2011 Dec;53(12):1077-84. Epub 2011 Sep 27 doi: 10.1111/j.1469-8749.2011.04134.x. PMID: 21950517\n",
            "Systematic review: clinical efficacy of chelator agents and zinc in the initial treatment of Wilson disease.\n",
            "Wiggelinkhuizen M, Tilanus ME, Bollen CW, Houwen RH\n",
            "Aliment Pharmacol Ther 2009 May 1;29(9):947-58. doi: 10.1111/j.1365-2036.2009.03959.x. PMID: 19210288\n",
            "See all (8)\n"
          ]
        }
      ],
      "source": [
        "element = driver.find_element(By.CLASS_NAME, 'aux')\n",
        "dt_elements = element.find_elements(By.TAG_NAME, 'dt')\n",
        "dd_elements = element.find_elements(By.TAG_NAME, 'dd')\n",
        "\n",
        "# Iterate over the dt and dd elements and print their text\n",
        "for dt, dd in zip(dt_elements, dd_elements):\n",
        "    print(dt.text, dd.text)\n",
        "\n",
        "element_1 = driver.find_element(By.CLASS_NAME, 'medgenTable')\n",
        "tr_elements = element_1.find_elements(By.TAG_NAME, 'tr')\n",
        "\n",
        "for tr in tr_elements:\n",
        "    td_elements = tr.find_elements(By.TAG_NAME, 'td')\n",
        "\n",
        "    for td in td_elements:\n",
        "        print(td.text)\n",
        "\n",
        "element_2 = driver.find_element(By.CLASS_NAME, 'rprt-tab')\n",
        "info_list = []\n",
        "info_list.append(element_2.text)\n",
        "\n",
        "sorted_list = sorted(info_list)\n",
        "\n",
        "# Print the sorted list\n",
        "for info in sorted_list:\n",
        "    print(info)\n"
      ]
    },
    {
      "cell_type": "code",
      "execution_count": null,
      "id": "15540c16",
      "metadata": {
        "id": "15540c16"
      },
      "outputs": [],
      "source": [
        "import csv"
      ]
    },
    {
      "cell_type": "code",
      "execution_count": null,
      "id": "63a64b57",
      "metadata": {
        "id": "63a64b57"
      },
      "outputs": [],
      "source": [
        "import csv\n",
        "\n",
        "element = driver.find_element(By.CLASS_NAME, 'aux')\n",
        "dt_elements = element.find_elements(By.TAG_NAME, 'dt')\n",
        "dd_elements = element.find_elements(By.TAG_NAME, 'dd')\n",
        "\n",
        "# Store dt and dd information in a list of tuples\n",
        "dt_dd_data = [(dt.text, dd.text) for dt, dd in zip(dt_elements, dd_elements)]\n",
        "\n",
        "element_1 = driver.find_element(By.CLASS_NAME, 'medgenTable')\n",
        "tr_elements = element_1.find_elements(By.TAG_NAME, 'tr')\n",
        "\n",
        "td_data = []\n",
        "for tr in tr_elements:\n",
        "    td_elements = tr.find_elements(By.TAG_NAME, 'td')\n",
        "    td_data.extend([td.text for td in td_elements])\n",
        "\n",
        "element_2 = driver.find_element(By.CLASS_NAME, 'rprt-tab')\n",
        "info_list = []\n",
        "info_list.append(element_2.text)\n",
        "\n",
        "sorted_list = sorted(info_list)\n",
        "\n",
        "# Create a list of tuples with field and information\n",
        "data = [(\"dt\", \"dd\")] + dt_dd_data + [(\"td\", td) for td in td_data] + [(\"sorted_info\", info) for info in sorted_list]\n",
        "\n",
        "# Write data to a CSV file\n",
        "with open('information.csv', 'w', newline='') as file:\n",
        "    writer = csv.writer(file)\n",
        "    writer.writerows(data)\n"
      ]
    },
    {
      "cell_type": "code",
      "execution_count": null,
      "id": "c8a1b5a7",
      "metadata": {
        "scrolled": false,
        "id": "c8a1b5a7",
        "outputId": "12abc94d-504c-4ecb-ce07-8258281fe37b"
      },
      "outputs": [
        {
          "name": "stdout",
          "output_type": "stream",
          "text": [
            "dt_dd_data:\n",
            "dt dd\n",
            "\n",
            "tr_td_data:\n",
            "td Synonyms:\n",
            "td Hepatolenticular degeneration; Wilson's disease; WND\n",
            "td SNOMED CT:\n",
            "td Wilson's disease (88518009); Hepatolenticular degeneration syndrome (88518009); Copper storage disease (88518009); Wilson disease (88518009); Westphal-Strumpell syndrome (190823004); Westphal-Strumpell cerebral pseudosclerosis (190823004); Pseudosclerotic type of Wilson's disease (190823004); Westphal-Strumpell form of Wilson's disease (190823004); Hepatocerebral degeneration (88518009); Hepatolenticular degeneration (88518009); Kinnier-Wilson disease (88518009); Neurohepatic degeneration (88518009); Progressive lenticular degeneration (88518009); WD - Wilson's disease (88518009)\n",
            "td Modes of inheritance:\n",
            "td Autosomal recessive inheritance (Orphanet)\n",
            "td  \n",
            "td Gene (location):\n",
            "td ATP7B (13q14.3)\n",
            "td  \n",
            "td Monarch Initiative:\n",
            "td MONDO:0010200\n",
            "td OMIM®:\n",
            "td 277900\n",
            "td Orphanet:\n",
            "td ORPHA905\n",
            "\n",
            "info_list:\n",
            "sorted_info Go to:\n",
            "Disease characteristics\n",
            "Excerpted from the GeneReview: Wilson Disease\n",
            "Wilson disease is a disorder of copper metabolism that, when untreated, can present with hepatic, neurologic, or psychiatric disturbances – or a combination of these – in individuals ages three years to older than 70 years. Manifestations in untreated individuals vary among and within families. Liver disease can include recurrent jaundice, simple acute self-limited hepatitis-like illness, autoimmune-type hepatitis, fulminant hepatic failure, or chronic liver disease. Neurologic presentations can include dysarthria, movement disorders (tremors, involuntary movements, chorea, choreoathetosis), dystonia (mask-like facies, rigidity, gait disturbance, pseudobulbar involvement), dysautonomia, seizures, sleep disorders, or insomnia. Psychiatric disturbances can include depression, bipolar disorder / bipolar spectrum disorder, neurotic behaviors, personality changes, or psychosis. Other multisystem involvement can include the eye (Kayser-Fleischer rings), hemolytic anemia, the kidneys, the endocrine glands, and the heart. [from GeneReviews]\n",
            "Full text of GeneReview (by section):\n",
            "Summary  |  Diagnosis  |  Clinical Characteristics  |  Genetically Related Disorders  |  Differential Diagnosis  |  Management  |  Genetic Counseling  |  Resources  |  Molecular Genetics  |  Chapter Notes  |  References\n",
            "Authors:\n",
            "Karl Heinz Weiss  |  Michael Schilsky   view full author information\n",
            "Go to:\n",
            "Additional descriptions\n",
            "From OMIM\n",
            "Wilson disease is an autosomal recessive disorder characterized by dramatic build-up of intracellular hepatic copper with subsequent hepatic and neurologic abnormalities. De Bie et al. (2007) provided a detailed review of the molecular pathogenesis of Wilson disease.  http://www.omim.org/entry/277900\n",
            "From MedlinePlus Genetics\n",
            "Wilson disease is an inherited disorder in which excessive amounts of copper accumulate in the body, particularly in the liver, brain, and eyes. The signs and symptoms of Wilson disease usually first appear between the ages of 6 and 45, but they most often begin during the teenage years. The features of this condition include a combination of liver disease and neurological and psychiatric problems.\n",
            "\n",
            "Liver disease is typically the initial feature of Wilson disease in affected children and young adults; individuals diagnosed at an older age usually do not have symptoms of liver problems, although they may have very mild liver disease. The signs and symptoms of liver disease include yellowing of the skin or whites of the eyes (jaundice), fatigue, loss of appetite, and abdominal swelling.\n",
            "\n",
            "Nervous system or psychiatric problems are often the initial features in individuals diagnosed in adulthood and commonly occur in young adults with Wilson disease. Signs and symptoms of these problems can include clumsiness, tremors, difficulty walking, speech problems, impaired thinking ability, depression, anxiety, and mood swings.\n",
            "\n",
            "In many individuals with Wilson disease, copper deposits in the front surface of the eye (the cornea) form a green-to-brownish ring, called the Kayser-Fleischer ring, that surrounds the colored part of the eye. Abnormalities in eye movements, such as a restricted ability to gaze upwards, may also occur.  https://medlineplus.gov/genetics/condition/wilson-disease\n",
            "Go to:\n",
            "Clinical features\n",
            "From HPO\n",
            "Show allHide all\n",
            "Abnormality of blood and blood-forming tissues\n",
            "Abnormality of head or neck\n",
            "Abnormality of limbs\n",
            "Abnormality of metabolism/homeostasis\n",
            "Abnormality of the digestive system\n",
            "Abnormality of the endocrine system\n",
            "Abnormality of the eye\n",
            "Abnormality of the genitourinary system\n",
            "Abnormality of the immune system\n",
            "Abnormality of the musculoskeletal system\n",
            "Abnormality of the nervous system\n",
            "Constitutional symptom\n",
            "Neoplasm\n",
            "Go to:\n",
            "Term Hierarchy\n",
            "GTR\n",
            "MeSH\n",
            "Orphanet\n",
            "CClinical test,  RResearch test,  OOMIM,  GGeneReviews,  VClinVar  \n",
            "CROGV\n",
            "Wilson disease\n",
            "Go to:\n",
            "Professional guidelines\n",
            "PubMed\n",
            "Wilson Disease: An Overview and Approach to Management.\n",
            "Mulligan C, Bronstein JM\n",
            "Neurol Clin 2020 May;38(2):417-432. Epub 2020 Feb 28 doi: 10.1016/j.ncl.2020.01.005. PMID: 32279718\n",
            "Advances in Treatment of Wilson Disease.\n",
            "Aggarwal A, Bhatt M\n",
            "Tremor Other Hyperkinet Mov (N Y) 2018;8:525. Epub 2018 Feb 28 doi: 10.7916/D841881D. PMID: 29520330Free PMC Article\n",
            "Wilson Disease: Diagnosis, Treatment, and Follow-up.\n",
            "Schilsky ML\n",
            "Clin Liver Dis 2017 Nov;21(4):755-767. Epub 2017 Aug 10 doi: 10.1016/j.cld.2017.06.011. PMID: 28987261\n",
            "See all (99)\n",
            "Go to:\n",
            "Recent clinical studies\n",
            "Etiology\n",
            "Cerebral Iron Deposition in Neurodegeneration.\n",
            "Dusek P, Hofer T, Alexander J, Roos PM, Aaseth JO\n",
            "Biomolecules 2022 May 17;12(5) doi: 10.3390/biom12050714. PMID: 35625641Free PMC Article\n",
            "Wilson disease.\n",
            "Aggarwal A, Bhatt M\n",
            "Curr Opin Neurol 2020 Aug;33(4):534-542. doi: 10.1097/WCO.0000000000000837. PMID: 32657896\n",
            "Wilson disease in children and adolescents.\n",
            "Fernando M, van Mourik I, Wassmer E, Kelly D\n",
            "Arch Dis Child 2020 May;105(5):499-505. Epub 2020 Jan 23 doi: 10.1136/archdischild-2018-315705. PMID: 31974298\n",
            "Dietary Trace Minerals.\n",
            "Tako E\n",
            "Nutrients 2019 Nov 19;11(11) doi: 10.3390/nu11112823. PMID: 31752257Free PMC Article\n",
            "Zinc: an essential micronutrient.\n",
            "Saper RB, Rash R\n",
            "Am Fam Physician 2009 May 1;79(9):768-72. PMID: 20141096Free PMC Article\n",
            "See all (352)\n",
            "Diagnosis\n",
            "Wilson disease.\n",
            "Aggarwal A, Bhatt M\n",
            "Curr Opin Neurol 2020 Aug;33(4):534-542. doi: 10.1097/WCO.0000000000000837. PMID: 32657896\n",
            "Wilson Disease: An Overview and Approach to Management.\n",
            "Mulligan C, Bronstein JM\n",
            "Neurol Clin 2020 May;38(2):417-432. Epub 2020 Feb 28 doi: 10.1016/j.ncl.2020.01.005. PMID: 32279718\n",
            "Wilson disease in children and adolescents.\n",
            "Fernando M, van Mourik I, Wassmer E, Kelly D\n",
            "Arch Dis Child 2020 May;105(5):499-505. Epub 2020 Jan 23 doi: 10.1136/archdischild-2018-315705. PMID: 31974298\n",
            "Wilson disease.\n",
            "Członkowska A, Litwin T, Dusek P, Ferenci P, Lutsenko S, Medici V, Rybakowski JK, Weiss KH, Schilsky ML\n",
            "Nat Rev Dis Primers 2018 Sep 6;4(1):21. doi: 10.1038/s41572-018-0018-3. PMID: 30190489Free PMC Article\n",
            "Wilson Disease: Diagnosis, Treatment, and Follow-up.\n",
            "Schilsky ML\n",
            "Clin Liver Dis 2017 Nov;21(4):755-767. Epub 2017 Aug 10 doi: 10.1016/j.cld.2017.06.011. PMID: 28987261\n",
            "See all (723)\n",
            "Therapy\n",
            "Wilson Disease in Children.\n",
            "Kerkar N, Rana A\n",
            "Clin Liver Dis 2022 Aug;26(3):473-488. Epub 2022 Jun 25 doi: 10.1016/j.cld.2022.03.008. PMID: 35868686\n",
            "Wilson disease.\n",
            "Aggarwal A, Bhatt M\n",
            "Curr Opin Neurol 2020 Aug;33(4):534-542. doi: 10.1097/WCO.0000000000000837. PMID: 32657896\n",
            "Wilson disease.\n",
            "Członkowska A, Litwin T, Dusek P, Ferenci P, Lutsenko S, Medici V, Rybakowski JK, Weiss KH, Schilsky ML\n",
            "Nat Rev Dis Primers 2018 Sep 6;4(1):21. doi: 10.1038/s41572-018-0018-3. PMID: 30190489Free PMC Article\n",
            "Wilson Disease: Diagnosis, Treatment, and Follow-up.\n",
            "Schilsky ML\n",
            "Clin Liver Dis 2017 Nov;21(4):755-767. Epub 2017 Aug 10 doi: 10.1016/j.cld.2017.06.011. PMID: 28987261\n",
            "Zinc: an essential micronutrient.\n",
            "Saper RB, Rash R\n",
            "Am Fam Physician 2009 May 1;79(9):768-72. PMID: 20141096Free PMC Article\n",
            "See all (281)\n",
            "Prognosis\n",
            "Direct Measurement of ATP7B Peptides Is Highly Effective in the Diagnosis of Wilson Disease.\n",
            "Collins CJ, Yi F, Dayuha R, Duong P, Horslen S, Camarata M, Coskun AK, Houwen RHJ, Pop TL, Zoller H, Yoo HW, Jung SW, Weiss KH, Schilsky ML, Ferenci P, Hahn SH\n",
            "Gastroenterology 2021 Jun;160(7):2367-2382.e1. Epub 2021 Feb 25 doi: 10.1053/j.gastro.2021.02.052. PMID: 33640437Free PMC Article\n",
            "Wilson disease.\n",
            "Członkowska A, Litwin T, Dusek P, Ferenci P, Lutsenko S, Medici V, Rybakowski JK, Weiss KH, Schilsky ML\n",
            "Nat Rev Dis Primers 2018 Sep 6;4(1):21. doi: 10.1038/s41572-018-0018-3. PMID: 30190489Free PMC Article\n",
            "The Role of Diagnosis and Treatment of Underlying Liver Disease for the Prognosis of Primary Liver Cancer.\n",
            "Shiani A, Narayanan S, Pena L, Friedman M\n",
            "Cancer Control 2017 Jul-Sep;24(3):1073274817729240. doi: 10.1177/1073274817729240. PMID: 28975833Free PMC Article\n",
            "Salivary biomarkers and proteomics: future diagnostic and clinical utilities.\n",
            "Castagnola M, Scarano E, Passali GC, Messana I, Cabras T, Iavarone F, Di Cintio G, Fiorita A, De Corso E, Paludetti G\n",
            "Acta Otorhinolaryngol Ital 2017 Apr;37(2):94-101. doi: 10.14639/0392-100X-1598. PMID: 28516971Free PMC Article\n",
            "Diverse functional properties of Wilson disease ATP7B variants.\n",
            "Huster D, Kühne A, Bhattacharjee A, Raines L, Jantsch V, Noe J, Schirrmeister W, Sommerer I, Sabri O, Berr F, Mössner J, Stieger B, Caca K, Lutsenko S\n",
            "Gastroenterology 2012 Apr;142(4):947-956.e5. Epub 2012 Jan 10 doi: 10.1053/j.gastro.2011.12.048. PMID: 22240481Free PMC Article\n",
            "See all (269)\n",
            "Clinical prediction guides\n",
            "Cerebral Iron Deposition in Neurodegeneration.\n",
            "Dusek P, Hofer T, Alexander J, Roos PM, Aaseth JO\n",
            "Biomolecules 2022 May 17;12(5) doi: 10.3390/biom12050714. PMID: 35625641Free PMC Article\n",
            "Designing Clinical Trials in Wilson's Disease.\n",
            "Ott P, Ala A, Askari FK, Czlonkowska A, Hilgers RD, Poujois A, Roberts EA, Sandahl TD, Weiss KH, Ferenci P, Schilsky ML\n",
            "Hepatology 2021 Dec;74(6):3460-3471. Epub 2021 Oct 5 doi: 10.1002/hep.32074. PMID: 34320232Free PMC Article\n",
            "Wilson Disease: Diagnosis, Treatment, and Follow-up.\n",
            "Schilsky ML\n",
            "Clin Liver Dis 2017 Nov;21(4):755-767. Epub 2017 Aug 10 doi: 10.1016/j.cld.2017.06.011. PMID: 28987261\n",
            "Diagnosis of Wilson disease.\n",
            "Ferenci P\n",
            "Handb Clin Neurol 2017;142:171-180. doi: 10.1016/B978-0-444-63625-6.00014-8. PMID: 28433100\n",
            "Diverse functional properties of Wilson disease ATP7B variants.\n",
            "Huster D, Kühne A, Bhattacharjee A, Raines L, Jantsch V, Noe J, Schirrmeister W, Sommerer I, Sabri O, Berr F, Mössner J, Stieger B, Caca K, Lutsenko S\n",
            "Gastroenterology 2012 Apr;142(4):947-956.e5. Epub 2012 Jan 10 doi: 10.1053/j.gastro.2011.12.048. PMID: 22240481Free PMC Article\n",
            "See all (353)\n",
            "Go to:\n",
            "Recent systematic reviews\n",
            "Serum glial fibrillary acidic protein is a body fluid biomarker: A valuable prognostic for neurological disease - A systematic review.\n",
            "Heimfarth L, Passos FRS, Monteiro BS, Araújo AAS, Quintans Júnior LJ, Quintans JSS\n",
            "Int Immunopharmacol 2022 Jun;107:108624. Epub 2022 Mar 4 doi: 10.1016/j.intimp.2022.108624. PMID: 35255304\n",
            "Sleep disorders in Wilson disease: a systematic review and meta-analysis.\n",
            "Xu J, Deng Q, Qin Q, Vgontzas AN, Basta M, Xie C, Li Y\n",
            "J Clin Sleep Med 2020 Feb 15;16(2):219-230. Epub 2020 Jan 13 doi: 10.5664/jcsm.8170. PMID: 31992405Free PMC Article\n",
            "Comparative effectiveness of common therapies for Wilson disease: A systematic review and meta-analysis of controlled studies.\n",
            "Appenzeller-Herzog C, Mathes T, Heeres MLS, Weiss KH, Houwen RHJ, Ewald H\n",
            "Liver Int 2019 Nov;39(11):2136-2152. Epub 2019 Jul 10 doi: 10.1111/liv.14179. PMID: 31206982\n",
            "Cognitive and psychiatric phenotypes of movement disorders in children: a systematic review.\n",
            "Ben-Pazi H, Jaworowski S, Shalev RS\n",
            "Dev Med Child Neurol 2011 Dec;53(12):1077-84. Epub 2011 Sep 27 doi: 10.1111/j.1469-8749.2011.04134.x. PMID: 21950517\n",
            "Systematic review: clinical efficacy of chelator agents and zinc in the initial treatment of Wilson disease.\n",
            "Wiggelinkhuizen M, Tilanus ME, Bollen CW, Houwen RH\n",
            "Aliment Pharmacol Ther 2009 May 1;29(9):947-58. doi: 10.1111/j.1365-2036.2009.03959.x. PMID: 19210288\n",
            "See all (8)\n"
          ]
        }
      ],
      "source": [
        "import csv\n",
        "\n",
        "# Read data from different content types and store in separate lists\n",
        "dt_dd_data = []\n",
        "tr_td_data = []\n",
        "info_list = []\n",
        "\n",
        "with open('information.csv', 'r') as file:\n",
        "    reader = csv.reader(file)\n",
        "    for row in reader:\n",
        "        if row[0] == 'dt':\n",
        "            dt_dd_data.append((row[0], row[1]))\n",
        "        elif row[0] == 'td':\n",
        "            tr_td_data.append((row[0], row[1]))\n",
        "        elif row[0] == 'sorted_info':\n",
        "            info_list.append((row[0], row[1]))\n",
        "\n",
        "# Print the data\n",
        "print(\"dt_dd_data:\")\n",
        "for data in dt_dd_data:\n",
        "    print(data[0], data[1])\n",
        "\n",
        "print(\"\\ntr_td_data:\")\n",
        "for data in tr_td_data:\n",
        "    print(data[0], data[1])\n",
        "\n",
        "print(\"\\ninfo_list:\")\n",
        "for data in info_list:\n",
        "    print(data[0], data[1])\n"
      ]
    },
    {
      "cell_type": "code",
      "execution_count": null,
      "id": "04268baf",
      "metadata": {
        "id": "04268baf"
      },
      "outputs": [],
      "source": []
    }
  ],
  "metadata": {
    "kernelspec": {
      "display_name": "Python 3 (ipykernel)",
      "language": "python",
      "name": "python3"
    },
    "language_info": {
      "codemirror_mode": {
        "name": "ipython",
        "version": 3
      },
      "file_extension": ".py",
      "mimetype": "text/x-python",
      "name": "python",
      "nbconvert_exporter": "python",
      "pygments_lexer": "ipython3",
      "version": "3.10.9"
    },
    "colab": {
      "provenance": []
    }
  },
  "nbformat": 4,
  "nbformat_minor": 5
}